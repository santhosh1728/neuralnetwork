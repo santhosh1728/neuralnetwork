{
  "nbformat": 4,
  "nbformat_minor": 0,
  "metadata": {
    "colab": {
      "provenance": []
    },
    "kernelspec": {
      "name": "python3",
      "display_name": "Python 3"
    },
    "language_info": {
      "name": "python"
    }
  },
  "cells": [
    {
      "cell_type": "code",
      "execution_count": 85,
      "metadata": {
        "id": "jjrgnRtN7OLW"
      },
      "outputs": [],
      "source": [
        "import keras"
      ]
    },
    {
      "cell_type": "code",
      "source": [
        "import tensorflow"
      ],
      "metadata": {
        "id": "fqi0J74W760X"
      },
      "execution_count": 86,
      "outputs": []
    },
    {
      "cell_type": "code",
      "source": [
        "from keras.datasets import boston_housing"
      ],
      "metadata": {
        "id": "mWlqNdEs78Dp"
      },
      "execution_count": 87,
      "outputs": []
    },
    {
      "cell_type": "code",
      "source": [
        "(x_train,y_train),(x_test,y_test)=boston_housing.load_data()"
      ],
      "metadata": {
        "id": "d8-psN1M8gVR"
      },
      "execution_count": 88,
      "outputs": []
    },
    {
      "cell_type": "code",
      "source": [
        "#Dataset Description\n",
        "#  Boston housing dataset has total 500 data instance (404 training & 102 test)\n",
        "# 13 attributes features to predict the median values of the houses at a location\n"
      ],
      "metadata": {
        "id": "ISQXJTWx8uiu"
      },
      "execution_count": 89,
      "outputs": []
    },
    {
      "cell_type": "code",
      "source": [
        " print(x_train.shape)"
      ],
      "metadata": {
        "colab": {
          "base_uri": "https://localhost:8080/"
        },
        "id": "W06PI-Y2-sdq",
        "outputId": "57c79d1b-0399-4d2f-84e6-5c8ed08ed814"
      },
      "execution_count": 90,
      "outputs": [
        {
          "output_type": "stream",
          "name": "stdout",
          "text": [
            "(404, 13)\n"
          ]
        }
      ]
    },
    {
      "cell_type": "code",
      "source": [
        "print(x_test.shape)"
      ],
      "metadata": {
        "colab": {
          "base_uri": "https://localhost:8080/"
        },
        "id": "NTEi0KpS_Eix",
        "outputId": "8bd80f7f-3f7a-4b3a-d05e-3cf906441ce0"
      },
      "execution_count": 91,
      "outputs": [
        {
          "output_type": "stream",
          "name": "stdout",
          "text": [
            "(102, 13)\n"
          ]
        }
      ]
    },
    {
      "cell_type": "code",
      "source": [
        "print(y_train.shape)\n",
        "print(y_test.shape)"
      ],
      "metadata": {
        "colab": {
          "base_uri": "https://localhost:8080/"
        },
        "id": "eQ75WX6a_Hrh",
        "outputId": "23bb5ad0-ce17-4fbc-956c-e375d0c4b197"
      },
      "execution_count": 92,
      "outputs": [
        {
          "output_type": "stream",
          "name": "stdout",
          "text": [
            "(404,)\n",
            "(102,)\n"
          ]
        }
      ]
    },
    {
      "cell_type": "code",
      "source": [
        " from keras.models import Sequential\n",
        " model=Sequential()"
      ],
      "metadata": {
        "id": "BTfy-e-e_SlB"
      },
      "execution_count": 93,
      "outputs": []
    },
    {
      "cell_type": "code",
      "source": [
        "from keras.layers import Activation,Dense"
      ],
      "metadata": {
        "id": "IMTI5q6OCzqL"
      },
      "execution_count": 94,
      "outputs": []
    },
    {
      "cell_type": "code",
      "source": [
        "# 1-1 Adding layers keras layers can be added to the model adding layers are like stacking logo blocks one Doc__"
      ],
      "metadata": {
        "id": "iWHQAhQDBUVY"
      },
      "execution_count": 95,
      "outputs": []
    },
    {
      "cell_type": "code",
      "source": [
        "from keras.layers import Activation\n",
        "#Keras model with two hidden layers with 10 neurons each\n",
        "\n",
        "model.add(Dense(10 , input_shape =(13,)))\n",
        "model.add(Activation(\"sigmoid\"))\n",
        "model.add(Dense(10))"
      ],
      "metadata": {
        "id": "KfbeuwW-B7wI"
      },
      "execution_count": 96,
      "outputs": []
    },
    {
      "cell_type": "code",
      "source": [
        "\n",
        "model.add(Activation(\"sigmoid\"))\n",
        "model.add(Dense(10))\n",
        "model.add(Activation(\"sigmoid\"))\n",
        "model.add(Dense(1))"
      ],
      "metadata": {
        "id": "22HLUgrFClPR"
      },
      "execution_count": 97,
      "outputs": []
    },
    {
      "cell_type": "code",
      "source": [
        "from tensorflow.keras import optimizers"
      ],
      "metadata": {
        "id": "7KKEJ5zKDXe4"
      },
      "execution_count": 98,
      "outputs": []
    },
    {
      "cell_type": "code",
      "source": [
        "import warnings\n",
        "warnings.filterwarnings(\"ignore\")"
      ],
      "metadata": {
        "id": "ZWdSdQgfDn1O"
      },
      "execution_count": 99,
      "outputs": []
    },
    {
      "cell_type": "code",
      "source": [
        "\n",
        "#  ACTIVATION FUNCITONS\n",
        "\n",
        "#"
      ],
      "metadata": {
        "id": "s-dHmeJLDy3-"
      },
      "execution_count": 135,
      "outputs": []
    },
    {
      "cell_type": "code",
      "source": [
        "#Binary function example"
      ],
      "metadata": {
        "id": "upNHcjKvJGz1"
      },
      "execution_count": 101,
      "outputs": []
    },
    {
      "cell_type": "code",
      "source": [
        "def Binary_step(x):\n",
        "  if x<0:\n",
        "    return 0\n",
        "  else:\n",
        "    return 1"
      ],
      "metadata": {
        "id": "5CMAniE1JLgW"
      },
      "execution_count": 102,
      "outputs": []
    },
    {
      "cell_type": "code",
      "source": [
        "Binary_step(1)"
      ],
      "metadata": {
        "colab": {
          "base_uri": "https://localhost:8080/"
        },
        "id": "2sGuue-zJU7N",
        "outputId": "36af8ac2-2864-47c2-94b0-73680d0fb31c"
      },
      "execution_count": 103,
      "outputs": [
        {
          "output_type": "execute_result",
          "data": {
            "text/plain": [
              "1"
            ]
          },
          "metadata": {},
          "execution_count": 103
        }
      ]
    },
    {
      "cell_type": "code",
      "source": [
        "Binary_step(0)"
      ],
      "metadata": {
        "colab": {
          "base_uri": "https://localhost:8080/"
        },
        "id": "H6XxXN7NKCE3",
        "outputId": "cb7ba4f2-becd-4504-ca68-eb49a107a818"
      },
      "execution_count": 104,
      "outputs": [
        {
          "output_type": "execute_result",
          "data": {
            "text/plain": [
              "1"
            ]
          },
          "metadata": {},
          "execution_count": 104
        }
      ]
    },
    {
      "cell_type": "code",
      "source": [
        "#Linear Function"
      ],
      "metadata": {
        "id": "FqJz0d-oKGw9"
      },
      "execution_count": 105,
      "outputs": []
    },
    {
      "cell_type": "code",
      "source": [
        "def linear_function(x):\n",
        "  return 5*x"
      ],
      "metadata": {
        "id": "3sBlkxXXKQTs"
      },
      "execution_count": 106,
      "outputs": []
    },
    {
      "cell_type": "code",
      "source": [
        "linear_function(19)"
      ],
      "metadata": {
        "colab": {
          "base_uri": "https://localhost:8080/"
        },
        "id": "2LB0wt8QKU5V",
        "outputId": "fa2c35ca-1a5a-4cc6-afed-32baecc3ea56"
      },
      "execution_count": 107,
      "outputs": [
        {
          "output_type": "execute_result",
          "data": {
            "text/plain": [
              "95"
            ]
          },
          "metadata": {},
          "execution_count": 107
        }
      ]
    },
    {
      "cell_type": "code",
      "source": [
        "linear_function(-38)"
      ],
      "metadata": {
        "colab": {
          "base_uri": "https://localhost:8080/"
        },
        "id": "OWNDWRvYKhzJ",
        "outputId": "97f3a13f-c505-4d61-885c-1a15211522ca"
      },
      "execution_count": 108,
      "outputs": [
        {
          "output_type": "execute_result",
          "data": {
            "text/plain": [
              "-190"
            ]
          },
          "metadata": {},
          "execution_count": 108
        }
      ]
    },
    {
      "cell_type": "code",
      "source": [
        "#Sigmoid Function  ----****-----"
      ],
      "metadata": {
        "id": "MEdUoIJjKv2V"
      },
      "execution_count": 109,
      "outputs": []
    },
    {
      "cell_type": "code",
      "source": [
        "import numpy as np\n",
        "def sigmoid_function(x):\n",
        "  z=(1/(1+np.exp(-x)))\n",
        "  return z"
      ],
      "metadata": {
        "id": "6PZc6RANLC-4"
      },
      "execution_count": 110,
      "outputs": []
    },
    {
      "cell_type": "code",
      "source": [
        "sigmoid_function(100)"
      ],
      "metadata": {
        "colab": {
          "base_uri": "https://localhost:8080/"
        },
        "id": "ACmt8K6TLGL5",
        "outputId": "03a2a67e-bb76-406d-fdf3-d88c95cfc5f5"
      },
      "execution_count": 111,
      "outputs": [
        {
          "output_type": "execute_result",
          "data": {
            "text/plain": [
              "1.0"
            ]
          },
          "metadata": {},
          "execution_count": 111
        }
      ]
    },
    {
      "cell_type": "code",
      "source": [
        "sigmoid_function(500)"
      ],
      "metadata": {
        "colab": {
          "base_uri": "https://localhost:8080/"
        },
        "id": "BNFFDp_vLu7V",
        "outputId": "89df0043-1258-480a-8d4f-e7d1ce468578"
      },
      "execution_count": 112,
      "outputs": [
        {
          "output_type": "execute_result",
          "data": {
            "text/plain": [
              "1.0"
            ]
          },
          "metadata": {},
          "execution_count": 112
        }
      ]
    },
    {
      "cell_type": "code",
      "source": [
        "sigmoid_function(-100)"
      ],
      "metadata": {
        "colab": {
          "base_uri": "https://localhost:8080/"
        },
        "id": "mWR8KvRTL3YF",
        "outputId": "9738c447-8293-465c-c237-a9045b27f11c"
      },
      "execution_count": 113,
      "outputs": [
        {
          "output_type": "execute_result",
          "data": {
            "text/plain": [
              "3.7200759760208356e-44"
            ]
          },
          "metadata": {},
          "execution_count": 113
        }
      ]
    },
    {
      "cell_type": "code",
      "source": [
        "#wheb the output is in between 0 to 1 we use sigmoidal function\n",
        "#when the output is in between -1 to 1 we use tanh function"
      ],
      "metadata": {
        "id": "IL0yvqGNM7Fh"
      },
      "execution_count": 114,
      "outputs": []
    },
    {
      "cell_type": "code",
      "source": [
        "# tanh "
      ],
      "metadata": {
        "id": "p2Cz_AU5MRTr"
      },
      "execution_count": 115,
      "outputs": []
    },
    {
      "cell_type": "code",
      "source": [
        "def tan_function(x):\n",
        "  z=(2/(1+np.exp(-2*x)))-1\n",
        "  return z"
      ],
      "metadata": {
        "id": "ADuo30k9MZcT"
      },
      "execution_count": 116,
      "outputs": []
    },
    {
      "cell_type": "code",
      "source": [
        "tan_function(0.9)"
      ],
      "metadata": {
        "colab": {
          "base_uri": "https://localhost:8080/"
        },
        "id": "1sml3IJgMeLz",
        "outputId": "19298094-57ae-43a3-b74b-5eab0bffa7db"
      },
      "execution_count": 117,
      "outputs": [
        {
          "output_type": "execute_result",
          "data": {
            "text/plain": [
              "0.7162978701990246"
            ]
          },
          "metadata": {},
          "execution_count": 117
        }
      ]
    },
    {
      "cell_type": "code",
      "source": [
        "tan_function(-299)"
      ],
      "metadata": {
        "colab": {
          "base_uri": "https://localhost:8080/"
        },
        "id": "8JWh0xvqMzXP",
        "outputId": "05bff1cb-2567-4cd6-c337-d5309c32b6df"
      },
      "execution_count": 118,
      "outputs": [
        {
          "output_type": "execute_result",
          "data": {
            "text/plain": [
              "-1.0"
            ]
          },
          "metadata": {},
          "execution_count": 118
        }
      ]
    },
    {
      "cell_type": "code",
      "source": [
        "#ReLU =>Rectified linear Unit\n",
        "# if the value if -ve it returns 0\n",
        "# if the value is +ve it returns same number"
      ],
      "metadata": {
        "id": "Qiv8DVqfOGxj"
      },
      "execution_count": 119,
      "outputs": []
    },
    {
      "cell_type": "code",
      "source": [
        "def relu_function(x):\n",
        "  if x<0:\n",
        "    return 0\n",
        "  else:\n",
        "    return x"
      ],
      "metadata": {
        "id": "JvyugvAWOUuf"
      },
      "execution_count": 120,
      "outputs": []
    },
    {
      "cell_type": "code",
      "source": [
        "relu_function(28978)"
      ],
      "metadata": {
        "colab": {
          "base_uri": "https://localhost:8080/"
        },
        "id": "PdpfygnVOt-I",
        "outputId": "493dcc18-9a33-466d-bc25-acd0acfe7357"
      },
      "execution_count": 121,
      "outputs": [
        {
          "output_type": "execute_result",
          "data": {
            "text/plain": [
              "28978"
            ]
          },
          "metadata": {},
          "execution_count": 121
        }
      ]
    },
    {
      "cell_type": "code",
      "source": [
        "relu_function(-3)"
      ],
      "metadata": {
        "colab": {
          "base_uri": "https://localhost:8080/"
        },
        "id": "b36vrSOEPDJ5",
        "outputId": "08503311-0870-42cd-8b6f-5d0df5eee0ba"
      },
      "execution_count": 122,
      "outputs": [
        {
          "output_type": "execute_result",
          "data": {
            "text/plain": [
              "0"
            ]
          },
          "metadata": {},
          "execution_count": 122
        }
      ]
    },
    {
      "cell_type": "code",
      "source": [
        "#Leaky reLU "
      ],
      "metadata": {
        "id": "2epXwRORPHBd"
      },
      "execution_count": 123,
      "outputs": []
    },
    {
      "cell_type": "code",
      "source": [
        "def leaky_relu_function(x):\n",
        "  if x<0:\n",
        "    return 0.01*x\n",
        "  else:\n",
        "    return x"
      ],
      "metadata": {
        "id": "dAGVTWO9XdMH"
      },
      "execution_count": 124,
      "outputs": []
    },
    {
      "cell_type": "code",
      "source": [
        "leaky_relu_function(9)"
      ],
      "metadata": {
        "colab": {
          "base_uri": "https://localhost:8080/"
        },
        "id": "thdbT8CFXucN",
        "outputId": "0b7884cd-5122-4556-fbaa-32bd19c2b6fb"
      },
      "execution_count": 125,
      "outputs": [
        {
          "output_type": "execute_result",
          "data": {
            "text/plain": [
              "9"
            ]
          },
          "metadata": {},
          "execution_count": 125
        }
      ]
    },
    {
      "cell_type": "code",
      "source": [
        "leaky_relu_function(-4)"
      ],
      "metadata": {
        "colab": {
          "base_uri": "https://localhost:8080/"
        },
        "id": "4I6YWi2eX_MF",
        "outputId": "13a39618-540f-4d3b-a35b-ad4617c16d2b"
      },
      "execution_count": 126,
      "outputs": [
        {
          "output_type": "execute_result",
          "data": {
            "text/plain": [
              "-0.04"
            ]
          },
          "metadata": {},
          "execution_count": 126
        }
      ]
    },
    {
      "cell_type": "code",
      "source": [
        "#ELU"
      ],
      "metadata": {
        "id": "iezTeD15YCU1"
      },
      "execution_count": 127,
      "outputs": []
    },
    {
      "cell_type": "code",
      "source": [
        "import numpy as np"
      ],
      "metadata": {
        "id": "swpyhg2lYFhF"
      },
      "execution_count": 128,
      "outputs": []
    },
    {
      "cell_type": "code",
      "source": [
        "def elu_function(x,a):\n",
        "  if x<0:\n",
        "    return a*(np.exp(x)-1)\n",
        "  else:\n",
        "    return 0"
      ],
      "metadata": {
        "id": "d-WzismBYIPN"
      },
      "execution_count": 129,
      "outputs": []
    },
    {
      "cell_type": "code",
      "source": [
        "elu_function(5,0.1)"
      ],
      "metadata": {
        "colab": {
          "base_uri": "https://localhost:8080/"
        },
        "id": "Iw7dP-pZYM8N",
        "outputId": "f71cc252-7659-4c84-8960-593659fe9107"
      },
      "execution_count": 130,
      "outputs": [
        {
          "output_type": "execute_result",
          "data": {
            "text/plain": [
              "0"
            ]
          },
          "metadata": {},
          "execution_count": 130
        }
      ]
    },
    {
      "cell_type": "code",
      "source": [
        "elu_function(-5,0.1)"
      ],
      "metadata": {
        "colab": {
          "base_uri": "https://localhost:8080/"
        },
        "id": "dq9brIvcY84L",
        "outputId": "67d4a9bf-6e02-45cd-986d-5c6ea17bd247"
      },
      "execution_count": 131,
      "outputs": [
        {
          "output_type": "execute_result",
          "data": {
            "text/plain": [
              "-0.09932620530009145"
            ]
          },
          "metadata": {},
          "execution_count": 131
        }
      ]
    },
    {
      "cell_type": "code",
      "source": [
        "#Softmax"
      ],
      "metadata": {
        "id": "XTj6x86SZBMq"
      },
      "execution_count": 132,
      "outputs": []
    },
    {
      "cell_type": "code",
      "source": [
        "def softmax_function(x):\n",
        "  z=np.exp(x)\n",
        "  z_=z/z.sum()\n",
        "  return z_"
      ],
      "metadata": {
        "id": "YGu6iLKqZaR8"
      },
      "execution_count": 133,
      "outputs": []
    },
    {
      "cell_type": "code",
      "source": [
        "softmax_function([2.0,1.0,0.1])"
      ],
      "metadata": {
        "colab": {
          "base_uri": "https://localhost:8080/"
        },
        "id": "YNcmX8ROZxUN",
        "outputId": "03316e8f-3148-4021-c90c-3ff20c9381a2"
      },
      "execution_count": 134,
      "outputs": [
        {
          "output_type": "execute_result",
          "data": {
            "text/plain": [
              "array([0.65900114, 0.24243297, 0.09856589])"
            ]
          },
          "metadata": {},
          "execution_count": 134
        }
      ]
    },
    {
      "cell_type": "code",
      "source": [
        "#\n",
        "\n",
        "\n",
        "\n",
        "            #->ACTIVATION FUNCTOINS COMPLITATED\n",
        "\n",
        "\n",
        "#"
      ],
      "metadata": {
        "id": "QDqwB6d0Z94r"
      },
      "execution_count": 136,
      "outputs": []
    },
    {
      "cell_type": "code",
      "source": [
        "import warnings\n",
        "warnings.filterwarnings(\"ignore\")"
      ],
      "metadata": {
        "id": "E-nfUjOve-YD"
      },
      "execution_count": 144,
      "outputs": []
    },
    {
      "cell_type": "code",
      "source": [
        "sgd = optimizers.SGD(lr = 0.01)\n",
        "model.compile(optimizer = sgd, loss = 'mean_squared_error',metrics = ['mse'] )#for regression problems )"
      ],
      "metadata": {
        "colab": {
          "base_uri": "https://localhost:8080/"
        },
        "id": "nc6yQIJOfLfd",
        "outputId": "234f966d-5a5c-49e5-8784-1874da1d7fa3"
      },
      "execution_count": 145,
      "outputs": [
        {
          "output_type": "stream",
          "name": "stderr",
          "text": [
            "WARNING:absl:`lr` is deprecated in Keras optimizer, please use `learning_rate` or use the legacy optimizer, e.g.,tf.keras.optimizers.legacy.SGD.\n"
          ]
        }
      ]
    },
    {
      "cell_type": "code",
      "source": [
        "model.summary()"
      ],
      "metadata": {
        "colab": {
          "base_uri": "https://localhost:8080/"
        },
        "id": "F7eBn3cyfqOQ",
        "outputId": "20d42461-f690-4b48-b861-e487ca82b82d"
      },
      "execution_count": 146,
      "outputs": [
        {
          "output_type": "stream",
          "name": "stdout",
          "text": [
            "Model: \"sequential_1\"\n",
            "_________________________________________________________________\n",
            " Layer (type)                Output Shape              Param #   \n",
            "=================================================================\n",
            " dense_6 (Dense)             (None, 10)                140       \n",
            "                                                                 \n",
            " activation_7 (Activation)   (None, 10)                0         \n",
            "                                                                 \n",
            " dense_7 (Dense)             (None, 10)                110       \n",
            "                                                                 \n",
            " activation_8 (Activation)   (None, 10)                0         \n",
            "                                                                 \n",
            " dense_8 (Dense)             (None, 10)                110       \n",
            "                                                                 \n",
            " activation_9 (Activation)   (None, 10)                0         \n",
            "                                                                 \n",
            " dense_9 (Dense)             (None, 1)                 11        \n",
            "                                                                 \n",
            "=================================================================\n",
            "Total params: 371\n",
            "Trainable params: 371\n",
            "Non-trainable params: 0\n",
            "_________________________________________________________________\n"
          ]
        }
      ]
    },
    {
      "cell_type": "code",
      "source": [
        "### training the model with training data provided\n",
        "model.fit(x_train,y_train,batch_size = 50, epochs = 100, verbose = 1)"
      ],
      "metadata": {
        "colab": {
          "base_uri": "https://localhost:8080/"
        },
        "id": "8_g1YcbHfuoX",
        "outputId": "a31652c9-7ddf-4d18-fb9d-e975ba63e5c2"
      },
      "execution_count": 147,
      "outputs": [
        {
          "output_type": "stream",
          "name": "stdout",
          "text": [
            "Epoch 1/100\n",
            "9/9 [==============================] - 1s 6ms/step - loss: 373.9202 - mse: 373.9203\n",
            "Epoch 2/100\n",
            "9/9 [==============================] - 0s 3ms/step - loss: 111.1696 - mse: 111.1696\n",
            "Epoch 3/100\n",
            "9/9 [==============================] - 0s 3ms/step - loss: 84.6997 - mse: 84.6997\n",
            "Epoch 4/100\n",
            "9/9 [==============================] - 0s 3ms/step - loss: 84.0213 - mse: 84.0213\n",
            "Epoch 5/100\n",
            "9/9 [==============================] - 0s 3ms/step - loss: 84.2076 - mse: 84.2076\n",
            "Epoch 6/100\n",
            "9/9 [==============================] - 0s 3ms/step - loss: 83.6320 - mse: 83.6320\n",
            "Epoch 7/100\n",
            "9/9 [==============================] - 0s 3ms/step - loss: 83.1979 - mse: 83.1979\n",
            "Epoch 8/100\n",
            "9/9 [==============================] - 0s 3ms/step - loss: 82.6345 - mse: 82.6345\n",
            "Epoch 9/100\n",
            "9/9 [==============================] - 0s 3ms/step - loss: 82.7398 - mse: 82.7398\n",
            "Epoch 10/100\n",
            "9/9 [==============================] - 0s 3ms/step - loss: 81.4600 - mse: 81.4600\n",
            "Epoch 11/100\n",
            "9/9 [==============================] - 0s 3ms/step - loss: 81.0492 - mse: 81.0492\n",
            "Epoch 12/100\n",
            "9/9 [==============================] - 0s 3ms/step - loss: 79.6926 - mse: 79.6926\n",
            "Epoch 13/100\n",
            "9/9 [==============================] - 0s 3ms/step - loss: 79.4931 - mse: 79.4931\n",
            "Epoch 14/100\n",
            "9/9 [==============================] - 0s 3ms/step - loss: 81.5595 - mse: 81.5595\n",
            "Epoch 15/100\n",
            "9/9 [==============================] - 0s 3ms/step - loss: 79.8764 - mse: 79.8764\n",
            "Epoch 16/100\n",
            "9/9 [==============================] - 0s 3ms/step - loss: 84.1589 - mse: 84.1589\n",
            "Epoch 17/100\n",
            "9/9 [==============================] - 0s 3ms/step - loss: 85.2236 - mse: 85.2236\n",
            "Epoch 18/100\n",
            "9/9 [==============================] - 0s 3ms/step - loss: 84.8400 - mse: 84.8400\n",
            "Epoch 19/100\n",
            "9/9 [==============================] - 0s 3ms/step - loss: 85.4568 - mse: 85.4568\n",
            "Epoch 20/100\n",
            "9/9 [==============================] - 0s 3ms/step - loss: 85.3045 - mse: 85.3045\n",
            "Epoch 21/100\n",
            "9/9 [==============================] - 0s 5ms/step - loss: 84.5446 - mse: 84.5446\n",
            "Epoch 22/100\n",
            "9/9 [==============================] - 0s 3ms/step - loss: 83.9926 - mse: 83.9925\n",
            "Epoch 23/100\n",
            "9/9 [==============================] - 0s 3ms/step - loss: 82.6152 - mse: 82.6152\n",
            "Epoch 24/100\n",
            "9/9 [==============================] - 0s 3ms/step - loss: 82.8847 - mse: 82.8847\n",
            "Epoch 25/100\n",
            "9/9 [==============================] - 0s 3ms/step - loss: 82.2627 - mse: 82.2627\n",
            "Epoch 26/100\n",
            "9/9 [==============================] - 0s 3ms/step - loss: 80.6768 - mse: 80.6768\n",
            "Epoch 27/100\n",
            "9/9 [==============================] - 0s 3ms/step - loss: 79.9782 - mse: 79.9782\n",
            "Epoch 28/100\n",
            "9/9 [==============================] - 0s 2ms/step - loss: 78.5672 - mse: 78.5672\n",
            "Epoch 29/100\n",
            "9/9 [==============================] - 0s 3ms/step - loss: 77.8402 - mse: 77.8402\n",
            "Epoch 30/100\n",
            "9/9 [==============================] - 0s 3ms/step - loss: 76.5330 - mse: 76.5330\n",
            "Epoch 31/100\n",
            "9/9 [==============================] - 0s 3ms/step - loss: 76.6056 - mse: 76.6056\n",
            "Epoch 32/100\n",
            "9/9 [==============================] - 0s 3ms/step - loss: 75.1379 - mse: 75.1379\n",
            "Epoch 33/100\n",
            "9/9 [==============================] - 0s 3ms/step - loss: 73.8547 - mse: 73.8547\n",
            "Epoch 34/100\n",
            "9/9 [==============================] - 0s 3ms/step - loss: 73.2920 - mse: 73.2920\n",
            "Epoch 35/100\n",
            "9/9 [==============================] - 0s 3ms/step - loss: 73.1484 - mse: 73.1484\n",
            "Epoch 36/100\n",
            "9/9 [==============================] - 0s 3ms/step - loss: 72.7353 - mse: 72.7353\n",
            "Epoch 37/100\n",
            "9/9 [==============================] - 0s 2ms/step - loss: 73.0575 - mse: 73.0575\n",
            "Epoch 38/100\n",
            "9/9 [==============================] - 0s 3ms/step - loss: 71.2228 - mse: 71.2229\n",
            "Epoch 39/100\n",
            "9/9 [==============================] - 0s 3ms/step - loss: 72.5333 - mse: 72.5333\n",
            "Epoch 40/100\n",
            "9/9 [==============================] - 0s 3ms/step - loss: 72.1945 - mse: 72.1945\n",
            "Epoch 41/100\n",
            "9/9 [==============================] - 0s 3ms/step - loss: 72.9470 - mse: 72.9470\n",
            "Epoch 42/100\n",
            "9/9 [==============================] - 0s 3ms/step - loss: 84.2622 - mse: 84.2622\n",
            "Epoch 43/100\n",
            "9/9 [==============================] - 0s 3ms/step - loss: 85.8329 - mse: 85.8329\n",
            "Epoch 44/100\n",
            "9/9 [==============================] - 0s 3ms/step - loss: 85.2635 - mse: 85.2635\n",
            "Epoch 45/100\n",
            "9/9 [==============================] - 0s 3ms/step - loss: 86.3701 - mse: 86.3701\n",
            "Epoch 46/100\n",
            "9/9 [==============================] - 0s 3ms/step - loss: 84.9304 - mse: 84.9304\n",
            "Epoch 47/100\n",
            "9/9 [==============================] - 0s 3ms/step - loss: 87.7000 - mse: 87.7000\n",
            "Epoch 48/100\n",
            "9/9 [==============================] - 0s 2ms/step - loss: 86.3654 - mse: 86.3654\n",
            "Epoch 49/100\n",
            "9/9 [==============================] - 0s 3ms/step - loss: 85.9845 - mse: 85.9845\n",
            "Epoch 50/100\n",
            "9/9 [==============================] - 0s 4ms/step - loss: 86.1168 - mse: 86.1168\n",
            "Epoch 51/100\n",
            "9/9 [==============================] - 0s 2ms/step - loss: 84.6474 - mse: 84.6474\n",
            "Epoch 52/100\n",
            "9/9 [==============================] - 0s 3ms/step - loss: 85.3090 - mse: 85.3090\n",
            "Epoch 53/100\n",
            "9/9 [==============================] - 0s 3ms/step - loss: 84.8426 - mse: 84.8426\n",
            "Epoch 54/100\n",
            "9/9 [==============================] - 0s 2ms/step - loss: 85.3763 - mse: 85.3763\n",
            "Epoch 55/100\n",
            "9/9 [==============================] - 0s 3ms/step - loss: 86.2444 - mse: 86.2444\n",
            "Epoch 56/100\n",
            "9/9 [==============================] - 0s 3ms/step - loss: 85.2538 - mse: 85.2538\n",
            "Epoch 57/100\n",
            "9/9 [==============================] - 0s 3ms/step - loss: 85.1696 - mse: 85.1696\n",
            "Epoch 58/100\n",
            "9/9 [==============================] - 0s 4ms/step - loss: 86.8562 - mse: 86.8562\n",
            "Epoch 59/100\n",
            "9/9 [==============================] - 0s 3ms/step - loss: 85.6247 - mse: 85.6247\n",
            "Epoch 60/100\n",
            "9/9 [==============================] - 0s 3ms/step - loss: 85.8648 - mse: 85.8648\n",
            "Epoch 61/100\n",
            "9/9 [==============================] - 0s 3ms/step - loss: 85.4321 - mse: 85.4321\n",
            "Epoch 62/100\n",
            "9/9 [==============================] - 0s 3ms/step - loss: 85.6016 - mse: 85.6016\n",
            "Epoch 63/100\n",
            "9/9 [==============================] - 0s 3ms/step - loss: 85.9226 - mse: 85.9226\n",
            "Epoch 64/100\n",
            "9/9 [==============================] - 0s 3ms/step - loss: 84.7587 - mse: 84.7587\n",
            "Epoch 65/100\n",
            "9/9 [==============================] - 0s 3ms/step - loss: 85.2444 - mse: 85.2444\n",
            "Epoch 66/100\n",
            "9/9 [==============================] - 0s 3ms/step - loss: 86.7633 - mse: 86.7633\n",
            "Epoch 67/100\n",
            "9/9 [==============================] - 0s 3ms/step - loss: 85.1045 - mse: 85.1045\n",
            "Epoch 68/100\n",
            "9/9 [==============================] - 0s 3ms/step - loss: 86.0108 - mse: 86.0108\n",
            "Epoch 69/100\n",
            "9/9 [==============================] - 0s 3ms/step - loss: 84.9804 - mse: 84.9804\n",
            "Epoch 70/100\n",
            "9/9 [==============================] - 0s 3ms/step - loss: 85.3029 - mse: 85.3029\n",
            "Epoch 71/100\n",
            "9/9 [==============================] - 0s 3ms/step - loss: 84.9628 - mse: 84.9628\n",
            "Epoch 72/100\n",
            "9/9 [==============================] - 0s 3ms/step - loss: 85.1955 - mse: 85.1955\n",
            "Epoch 73/100\n",
            "9/9 [==============================] - 0s 3ms/step - loss: 85.9518 - mse: 85.9518\n",
            "Epoch 74/100\n",
            "9/9 [==============================] - 0s 3ms/step - loss: 85.3400 - mse: 85.3400\n",
            "Epoch 75/100\n",
            "9/9 [==============================] - 0s 5ms/step - loss: 85.3243 - mse: 85.3243\n",
            "Epoch 76/100\n",
            "9/9 [==============================] - 0s 4ms/step - loss: 87.1894 - mse: 87.1894\n",
            "Epoch 77/100\n",
            "9/9 [==============================] - 0s 3ms/step - loss: 84.6262 - mse: 84.6262\n",
            "Epoch 78/100\n",
            "9/9 [==============================] - 0s 3ms/step - loss: 85.5589 - mse: 85.5589\n",
            "Epoch 79/100\n",
            "9/9 [==============================] - 0s 3ms/step - loss: 85.3428 - mse: 85.3428\n",
            "Epoch 80/100\n",
            "9/9 [==============================] - 0s 3ms/step - loss: 89.6752 - mse: 89.6752\n",
            "Epoch 81/100\n",
            "9/9 [==============================] - 0s 4ms/step - loss: 86.7192 - mse: 86.7192\n",
            "Epoch 82/100\n",
            "9/9 [==============================] - 0s 3ms/step - loss: 85.6288 - mse: 85.6288\n",
            "Epoch 83/100\n",
            "9/9 [==============================] - 0s 3ms/step - loss: 85.6158 - mse: 85.6158\n",
            "Epoch 84/100\n",
            "9/9 [==============================] - 0s 3ms/step - loss: 85.1003 - mse: 85.1003\n",
            "Epoch 85/100\n",
            "9/9 [==============================] - 0s 3ms/step - loss: 86.0211 - mse: 86.0211\n",
            "Epoch 86/100\n",
            "9/9 [==============================] - 0s 4ms/step - loss: 85.3428 - mse: 85.3428\n",
            "Epoch 87/100\n",
            "9/9 [==============================] - 0s 4ms/step - loss: 84.9135 - mse: 84.9135\n",
            "Epoch 88/100\n",
            "9/9 [==============================] - 0s 4ms/step - loss: 87.2761 - mse: 87.2761\n",
            "Epoch 89/100\n",
            "9/9 [==============================] - 0s 4ms/step - loss: 86.2531 - mse: 86.2531\n",
            "Epoch 90/100\n",
            "9/9 [==============================] - 0s 3ms/step - loss: 86.4763 - mse: 86.4763\n",
            "Epoch 91/100\n",
            "9/9 [==============================] - 0s 4ms/step - loss: 85.3687 - mse: 85.3687\n",
            "Epoch 92/100\n",
            "9/9 [==============================] - 0s 3ms/step - loss: 84.9237 - mse: 84.9237\n",
            "Epoch 93/100\n",
            "9/9 [==============================] - 0s 3ms/step - loss: 85.3387 - mse: 85.3387\n",
            "Epoch 94/100\n",
            "9/9 [==============================] - 0s 3ms/step - loss: 84.6445 - mse: 84.6445\n",
            "Epoch 95/100\n",
            "9/9 [==============================] - 0s 3ms/step - loss: 85.0683 - mse: 85.0683\n",
            "Epoch 96/100\n",
            "9/9 [==============================] - 0s 3ms/step - loss: 85.1214 - mse: 85.1214\n",
            "Epoch 97/100\n",
            "9/9 [==============================] - 0s 3ms/step - loss: 85.2363 - mse: 85.2363\n",
            "Epoch 98/100\n",
            "9/9 [==============================] - 0s 3ms/step - loss: 85.7268 - mse: 85.7268\n",
            "Epoch 99/100\n",
            "9/9 [==============================] - 0s 3ms/step - loss: 86.4500 - mse: 86.4500\n",
            "Epoch 100/100\n",
            "9/9 [==============================] - 0s 3ms/step - loss: 84.9563 - mse: 84.9563\n"
          ]
        },
        {
          "output_type": "execute_result",
          "data": {
            "text/plain": [
              "<keras.callbacks.History at 0x7f23dad4a370>"
            ]
          },
          "metadata": {},
          "execution_count": 147
        }
      ]
    },
    {
      "cell_type": "code",
      "source": [
        "results = model.evaluate(x_test , y_test)"
      ],
      "metadata": {
        "colab": {
          "base_uri": "https://localhost:8080/"
        },
        "id": "oTvFGcGzkCr3",
        "outputId": "450ce1b8-9cd2-41db-cb5c-ab8ed43bb1eb"
      },
      "execution_count": 149,
      "outputs": [
        {
          "output_type": "stream",
          "name": "stdout",
          "text": [
            "4/4 [==============================] - 1s 4ms/step - loss: 83.2623 - mse: 83.2623\n"
          ]
        }
      ]
    },
    {
      "cell_type": "code",
      "source": [
        "print(model.metrics_names) # list of metric names the model is employing\n",
        "print(results) # actual figure of metrics computed"
      ],
      "metadata": {
        "colab": {
          "base_uri": "https://localhost:8080/"
        },
        "id": "Q0RLO8NlkLsi",
        "outputId": "bdbc59de-dfd9-4815-bd28-560a96e4202b"
      },
      "execution_count": 151,
      "outputs": [
        {
          "output_type": "stream",
          "name": "stdout",
          "text": [
            "['loss', 'mse']\n",
            "[83.2623291015625, 83.2623291015625]\n"
          ]
        }
      ]
    },
    {
      "cell_type": "code",
      "source": [],
      "metadata": {
        "id": "6wcpnLZ7lTzr"
      },
      "execution_count": null,
      "outputs": []
    }
  ]
}